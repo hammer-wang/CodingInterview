{
 "cells": [
  {
   "cell_type": "markdown",
   "metadata": {},
   "source": [
    "# Recursion\n",
    "\n",
    "Recursion is a technique by which a function makes one or more calls to itself during execution, or by which a data structure relies upon smaller instances of the very same type of structure in its representation.\n",
    "\n",
    "In computing, recursion provides an elegant and powerful alternative for per- forming repetitive tasks. In fact, a few programming languages (e.g., Scheme, Smalltalk) do not explicitly support looping constructs and instead rely directly on recursion to express repetition. Most modern programming languages support functional recursion using the identical mechanism that is used to support tradi- tional forms of function calls. __When one invocation of the function make a recur- sive call, that invocation is suspended until the recursive call completes.__\n",
    "\n",
    "A recursion trace closely mirrors the programming language’s execution of the recursion. In Python, each time a function (recursive or otherwise) is called, a structure known as an __activation record__ or __frame__ is created to store information about the progress of that invocation of the function. This activation record includes a namespace for storing the function call’s parameters and local variables (see Section 1.10 for a discussion of namespaces), and information about which command in the body of the function is currently executing.\n",
    "\n",
    "Examples:\n",
    "* Factorial function\n",
    "* English ruler\n",
    "* Binary search\n",
    "* File system"
   ]
  },
  {
   "cell_type": "markdown",
   "metadata": {},
   "source": [
    "## Factorial Function"
   ]
  },
  {
   "cell_type": "code",
   "execution_count": 4,
   "metadata": {},
   "outputs": [],
   "source": [
    "import math"
   ]
  },
  {
   "cell_type": "code",
   "execution_count": 1,
   "metadata": {},
   "outputs": [],
   "source": [
    "def factorial(n):\n",
    "    if n == 0:\n",
    "        return 1\n",
    "    else:\n",
    "        return n * factorial(n-1)"
   ]
  },
  {
   "cell_type": "code",
   "execution_count": 5,
   "metadata": {},
   "outputs": [
    {
     "data": {
      "text/plain": [
       "True"
      ]
     },
     "execution_count": 5,
     "metadata": {},
     "output_type": "execute_result"
    }
   ],
   "source": [
    "math.factorial(20) == factorial(20)"
   ]
  },
  {
   "cell_type": "markdown",
   "metadata": {},
   "source": [
    "## English Ruler\n",
    "\n",
    "English ruler is a simple example of a fractal. \n",
    "\n",
    "![title](figures/chapter1/fig1.png)"
   ]
  },
  {
   "cell_type": "code",
   "execution_count": 7,
   "metadata": {},
   "outputs": [],
   "source": [
    "def draw_line(tick_length, tick_label=''):\n",
    "    '''Draw one line with given tick length (followed by optional label). '''\n",
    "    line =  '-' * tick_length\n",
    "    if tick_label:\n",
    "        line += ' ' + tick_label\n",
    "    print(line)\n",
    "    \n",
    "def draw_interval(center_length):\n",
    "    if center_length > 0:\n",
    "        draw_interval(center_length-1)\n",
    "        draw_line(center_length)\n",
    "        draw_interval(center_length-1)\n",
    "        \n",
    "def draw_ruler(num_inches, major_length):\n",
    "    draw_line(major_length, '0')\n",
    "    for j in range(1, 1+num_inches):\n",
    "        draw_interval(major_length - 1)\n",
    "        draw_line(major_length, str(j))"
   ]
  },
  {
   "cell_type": "code",
   "execution_count": 14,
   "metadata": {},
   "outputs": [
    {
     "name": "stdout",
     "output_type": "stream",
     "text": [
      "---- 0\n",
      "-\n",
      "--\n",
      "-\n",
      "---\n",
      "-\n",
      "--\n",
      "-\n",
      "---- 1\n",
      "-\n",
      "--\n",
      "-\n",
      "---\n",
      "-\n",
      "--\n",
      "-\n",
      "---- 2\n"
     ]
    }
   ],
   "source": [
    "draw_ruler(2, 4)"
   ]
  },
  {
   "cell_type": "markdown",
   "metadata": {},
   "source": [
    "##  Binary search (important)\n",
    "\n",
    "In this section, we describe a classic recursive algorithm, binary search, that is used to efficiently locate a target value within a sorted sequence of n elements. This is among the most important of computer algorithms, and it is the reason that we so often store data in sorted order.\n",
    "\n",
    "When the sequence is sorted and indexable, there is a much more efficient algorithm. (For intuition, think about how you would accomplish this task by hand!) For any index j, we know that all the values stored at indices 0, . . . , j − 1 are less than or equal to the value at index j, and all the values stored at indices j + 1, . . . , n − 1 are greater than or equal to that at index j. This observation allows us to quickly “home in” on a search target using a variant of the children’s game “high-low.” We call an element of the sequence a candidate if, at the current stage of the search, we cannot rule out that this item matches the target. The algorithm maintains two parameters, low and high, such that all the candidate entries have index at least low and at most high. Initially, low = 0 and high = n − 1. We then compare the target value to the median candidate, that is, the item data[mid] with index\n",
    "\n",
    "mid = ceil((low + high) / 2)\n"
   ]
  },
  {
   "cell_type": "code",
   "execution_count": 15,
   "metadata": {},
   "outputs": [],
   "source": [
    "def binary_search(data, target, low, high):\n",
    "    \n",
    "    if low > high:\n",
    "        return False\n",
    "    else:\n",
    "        mid = (low + high) // 2\n",
    "        if target == data[mid]:\n",
    "            return True\n",
    "        elif target < data[mid]:\n",
    "            return binary_search(data, target, low, mid-1)\n",
    "        else:\n",
    "            return binary_search(data, target, low+1, high)"
   ]
  },
  {
   "cell_type": "code",
   "execution_count": 18,
   "metadata": {},
   "outputs": [
    {
     "data": {
      "text/plain": [
       "(True, False)"
      ]
     },
     "execution_count": 18,
     "metadata": {},
     "output_type": "execute_result"
    }
   ],
   "source": [
    "test_ls = [0,9,5,10,20]\n",
    "binary_search(test_ls, 5, 0, 4), binary_search(test_ls, 11, 0, 4)"
   ]
  },
  {
   "cell_type": "markdown",
   "metadata": {},
   "source": [
    "## File systems\n",
    "\n",
    "In this section, we consider one such algorithm: computing the total disk usage for all files and directories nested within a particular directory. The cumulative disk space for an entry can be computed with a simple recursive algorithm. It is equal to the immediate disk space used by the entry plus the sum of the cumulative disk space usage of any entries that are stored directly within the entry. "
   ]
  },
  {
   "cell_type": "code",
   "execution_count": 20,
   "metadata": {},
   "outputs": [],
   "source": [
    "import os\n",
    "\n",
    "def disk_usage(path):\n",
    "    total = os.path.getsize(path)\n",
    "    if os.path.isdir(path):\n",
    "        for filename in os.listdir(path):\n",
    "            childpath = os.path.join(path, filename)\n",
    "            total += disk_usage(childpath)\n",
    "            \n",
    "    print('{0:<7}'.format(total), path)\n",
    "    \n",
    "    return total"
   ]
  },
  {
   "cell_type": "code",
   "execution_count": 21,
   "metadata": {},
   "outputs": [
    {
     "name": "stdout",
     "output_type": "stream",
     "text": [
      "8196    ./.DS_Store\n",
      "1954    ./trees.ipynb\n",
      "555     ./chapter2_list.ipynb\n",
      "645     ./graphs.ipynb\n",
      "20432   ./chapter3_stack_queue.ipynb\n",
      "84      ./README.md\n",
      "884     ./searching.ipynb\n",
      "3042    ./backtracking.ipynb\n",
      "6148    ./figures/.DS_Store\n",
      "9167    ./figures/chapter1/fig1.png\n",
      "9263    ./figures/chapter1\n",
      "15539   ./figures\n",
      "555     ./sorting.ipynb\n",
      "72      ./.ipynb_checkpoints/searching-checkpoint.ipynb\n",
      "5912    ./.ipynb_checkpoints/chapter1_recursion-checkpoint.ipynb\n",
      "72      ./.ipynb_checkpoints/backtracking-checkpoint.ipynb\n",
      "72      ./.ipynb_checkpoints/dynamic_programming-checkpoint.ipynb\n",
      "72      ./.ipynb_checkpoints/chapter2_list-checkpoint.ipynb\n",
      "72      ./.ipynb_checkpoints/graphs-checkpoint.ipynb\n",
      "72      ./.ipynb_checkpoints/sorting-checkpoint.ipynb\n",
      "72      ./.ipynb_checkpoints/chapter3_stack_queue-checkpoint.ipynb\n",
      "72      ./.ipynb_checkpoints/trees-checkpoint.ipynb\n",
      "6840    ./.ipynb_checkpoints\n",
      "347     ./.git/config\n",
      "71      ./.git/objects/59/ce53d3507b80fd4d66f1874fc1c80ce7115fbf\n",
      "167     ./.git/objects/59\n",
      "1458    ./.git/objects/66/7d19fa3822609f284e306e779f9fdceac8ed8b\n",
      "1554    ./.git/objects/66\n",
      "720     ./.git/objects/68/d4ae150b35a9b2cbe47d51e4a082c960cda8fa\n",
      "816     ./.git/objects/68\n",
      "294     ./.git/objects/9e/2543a4898e1858616414b8e149372ca14f4c0c\n",
      "390     ./.git/objects/9e\n",
      "6211    ./.git/objects/35/0ecf38627b2ff7b4ba1e856cc14ac0c8ea1a3f\n",
      "6307    ./.git/objects/35\n",
      "843     ./.git/objects/93/bfe509b9a7412e0e743e07834e64e5305f2247\n",
      "939     ./.git/objects/93\n",
      "346     ./.git/objects/da/d0bff9ee30c9646581a858b5f3ddfc061e5006\n",
      "442     ./.git/objects/da\n",
      "53      ./.git/objects/bd/aa518b7fc8043c420e5ecb5f4262c346fe67d3\n",
      "149     ./.git/objects/bd\n",
      "374     ./.git/objects/e5/a8aad31c9181f9e7612d7b4b454d2ea9e92d3d\n",
      "470     ./.git/objects/e5\n",
      "64      ./.git/objects/pack\n",
      "168     ./.git/objects/80/4b30c0b9106627e6e95dd81cd88379e91bca69\n",
      "264     ./.git/objects/80\n",
      "160     ./.git/objects/17/e97be4d10ea14578607f2dfe5db1eb09304796\n",
      "256     ./.git/objects/17\n",
      "7713    ./.git/objects/8f/89d6d040c4f55478f4512faabcaec2dce6bcdb\n",
      "7809    ./.git/objects/8f\n",
      "324     ./.git/objects/86/af58c170730b8a58ec09d3eefd61e25d86dda9\n",
      "420     ./.git/objects/86\n",
      "403     ./.git/objects/2f/b6776d3cf1cf6da06de99656ee9a5d7d1b0062\n",
      "499     ./.git/objects/2f\n",
      "417     ./.git/objects/43/8184bb4200d1deac5b9cea359efda7578c6111\n",
      "513     ./.git/objects/43\n",
      "134     ./.git/objects/38/cc5b8d8dfd7b31343361f176657cbbfb3623bb\n",
      "230     ./.git/objects/38\n",
      "64      ./.git/objects/info\n",
      "165     ./.git/objects/5b/15269d74b0a2e690e25102b80f6753ac2ce45b\n",
      "261     ./.git/objects/5b\n",
      "2219    ./.git/objects/37/dc0a0bb689a35972e118fd4387a41a990c2e33\n",
      "2315    ./.git/objects/37\n",
      "2460    ./.git/objects/39/d5a47a812213f12824414dd145e1d6b608fc60\n",
      "2556    ./.git/objects/39\n",
      "162     ./.git/objects/0a/a38d5fdebf0ab7ab048ffa0e6759b5d7ac9600\n",
      "258     ./.git/objects/0a\n",
      "150     ./.git/objects/a7/8909dfc563b48a58511710e00aeec6536be670\n",
      "246     ./.git/objects/a7\n",
      "312     ./.git/objects/d2/e7aad1370409b4ec386be17990260df3ac3868\n",
      "408     ./.git/objects/d2\n",
      "6203    ./.git/objects/af/728b6b4dc64de17aa23a432248693cc00af654\n",
      "6299    ./.git/objects/af\n",
      "87      ./.git/objects/a1/453fe978116f47512f7414d00550664d15360d\n",
      "183     ./.git/objects/a1\n",
      "50      ./.git/objects/c4/c2287b30c4098b4860b2799d0243b050c948cc\n",
      "146     ./.git/objects/c4\n",
      "191     ./.git/objects/c5/c7c9d74215e98d42db1b12e8a6a32f6fa337c6\n",
      "287     ./.git/objects/c5\n",
      "1219    ./.git/objects/79/a33d6b97cfd68c8c2e610b379198f851f76ba2\n",
      "386     ./.git/objects/79/0d1b33c2aed7aab2f827f3f6786cd9975c025f\n",
      "1733    ./.git/objects/79\n",
      "5387    ./.git/objects/1b/542d5f91497f3297bd3aae4d674f4048e85b30\n",
      "5483    ./.git/objects/1b\n",
      "166     ./.git/objects/15/f72faacaa2ab58fb14d8df47e8f1e4c1fc99fc\n",
      "262     ./.git/objects/15\n",
      "312     ./.git/objects/22/912c8736fe7e6a48770e9a8a486e05d599a268\n",
      "408     ./.git/objects/22\n",
      "43286   ./.git/objects\n",
      "23      ./.git/HEAD\n",
      "250     ./.git/info/exclude\n",
      "346     ./.git/info\n",
      "797     ./.git/logs/HEAD\n",
      "797     ./.git/logs/refs/heads/master\n",
      "893     ./.git/logs/refs/heads\n",
      "765     ./.git/logs/refs/remotes/CodingInterview/master\n",
      "861     ./.git/logs/refs/remotes/CodingInterview\n",
      "957     ./.git/logs/refs/remotes\n",
      "1978    ./.git/logs/refs\n",
      "2903    ./.git/logs\n",
      "73      ./.git/description\n",
      "896     ./.git/hooks/commit-msg.sample\n",
      "4951    ./.git/hooks/pre-rebase.sample\n",
      "1642    ./.git/hooks/pre-commit.sample\n",
      "478     ./.git/hooks/applypatch-msg.sample\n",
      "544     ./.git/hooks/pre-receive.sample\n",
      "1239    ./.git/hooks/prepare-commit-msg.sample\n",
      "189     ./.git/hooks/post-update.sample\n",
      "424     ./.git/hooks/pre-applypatch.sample\n",
      "1348    ./.git/hooks/pre-push.sample\n",
      "3610    ./.git/hooks/update.sample\n",
      "15705   ./.git/hooks\n",
      "41      ./.git/refs/heads/master\n",
      "137     ./.git/refs/heads\n",
      "64      ./.git/refs/tags\n",
      "41      ./.git/refs/remotes/CodingInterview/master\n",
      "137     ./.git/refs/remotes/CodingInterview\n",
      "233     ./.git/refs/remotes\n",
      "594     ./.git/refs\n",
      "2126    ./.git/index\n",
      "64      ./.git/branches\n",
      "12      ./.git/COMMIT_EDITMSG\n",
      "65895   ./.git\n",
      "1739    ./dynamic_programming.ipynb\n",
      "8009    ./chapter1_recursion.ipynb\n",
      "134881  ./\n"
     ]
    },
    {
     "data": {
      "text/plain": [
       "134881"
      ]
     },
     "execution_count": 21,
     "metadata": {},
     "output_type": "execute_result"
    }
   ],
   "source": [
    "disk_usage('./')"
   ]
  },
  {
   "cell_type": "markdown",
   "metadata": {},
   "source": [
    "## Analyzing Recursive Algorithms"
   ]
  },
  {
   "cell_type": "code",
   "execution_count": 1,
   "metadata": {},
   "outputs": [],
   "source": [
    "def valid(A):\n",
    "    bal = 0\n",
    "    for c in A:\n",
    "        if c == '(': bal += 1\n",
    "        else: bal -= 1\n",
    "        if bal < 0: return False\n",
    "    return bal == 0"
   ]
  },
  {
   "cell_type": "markdown",
   "metadata": {},
   "source": [
    "### Example"
   ]
  },
  {
   "cell_type": "code",
   "execution_count": 7,
   "metadata": {},
   "outputs": [],
   "source": [
    "# use recursion to print strings in reverse order \n",
    "string = 'asdfas'\n",
    "\n",
    "def printReverse(string):\n",
    "    \n",
    "    def helper(string, i):\n",
    "        \n",
    "        # base case \n",
    "        if i == len(string) - 1:\n",
    "            print(string[i])\n",
    "            return \n",
    "        \n",
    "        helper(string, i+1)\n",
    "        print(string[i])\n",
    "        \n",
    "    helper(string, 0)\n",
    "            \n",
    "            \n",
    "        "
   ]
  },
  {
   "cell_type": "code",
   "execution_count": 1,
   "metadata": {},
   "outputs": [],
   "source": [
    "class Solution(object):\n",
    "    def countSteppingNumbers(self, low, high):\n",
    "        \"\"\"\n",
    "        :type low: int\n",
    "        :type high: int\n",
    "        :rtype: List[int]\n",
    "        \"\"\"\n",
    "        ans = []\n",
    "        \n",
    "        for i in range(low, high+1):\n",
    "            \n",
    "            if i <= 9:\n",
    "                ans.append(i)\n",
    "            else:\n",
    "                digits = [int(item) for item in list(str(i))]\n",
    "                \n",
    "                eligible = True\n",
    "                curr_digit = digits[0]\n",
    "                for digit in digits[1:]:\n",
    "                    if abs(digit - curr_digit) != 1:\n",
    "                        eligible = False\n",
    "                        break\n",
    "                    else:\n",
    "                        curr_digit = digit\n",
    "                        \n",
    "                if eligible:\n",
    "                    ans.append(i)\n",
    "                \n",
    "                \n",
    "        return ans"
   ]
  },
  {
   "cell_type": "code",
   "execution_count": 2,
   "metadata": {},
   "outputs": [],
   "source": [
    "solution = Solution()"
   ]
  },
  {
   "cell_type": "code",
   "execution_count": 11,
   "metadata": {},
   "outputs": [],
   "source": [
    "# ans = solution.countSteppingNumbers(0, 1000000000)"
   ]
  },
  {
   "cell_type": "code",
   "execution_count": null,
   "metadata": {},
   "outputs": [],
   "source": [
    "len(ans)"
   ]
  }
 ],
 "metadata": {
  "kernelspec": {
   "display_name": "Python 3",
   "language": "python",
   "name": "python3"
  },
  "language_info": {
   "codemirror_mode": {
    "name": "ipython",
    "version": 3
   },
   "file_extension": ".py",
   "mimetype": "text/x-python",
   "name": "python",
   "nbconvert_exporter": "python",
   "pygments_lexer": "ipython3",
   "version": "3.5.2"
  }
 },
 "nbformat": 4,
 "nbformat_minor": 2
}
