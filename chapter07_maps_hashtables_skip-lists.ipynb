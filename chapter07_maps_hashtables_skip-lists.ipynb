{
 "cells": [
  {
   "cell_type": "markdown",
   "metadata": {},
   "source": [
    "# Maps, Hash Tables, Skip Lists\n",
    "\n",
    "Table of contents:\n",
    "- maps and dictionaries\n",
    "- hash tables\n",
    "- sorted maps\n",
    "- skip lists\n",
    "- sets, multisets. multimaps"
   ]
  },
  {
   "cell_type": "markdown",
   "metadata": {},
   "source": [
    "# Maps and dictionaries\n",
    "\n",
    "Python’s dict class is arguably the most significant data structure in the language. It represents an abstraction known as a dictionary in which unique keys are mapped to associated values. Because of the relationship they express between keys and values, dictionaries are commonly known as associative arrays or maps. In this book, we use the term dictionary when specifically discussing Python’s dict class, and the term map when discussing the more general notion of the abstract data type.\n",
    "\n",
    "Applications: \n",
    "- counting word frequencies"
   ]
  },
  {
   "cell_type": "markdown",
   "metadata": {},
   "source": [
    "## Hash Tables\n",
    "\n",
    "Hash table is one of the most practical data structures for implementing a map. \n",
    "\n",
    "Hash function: map general keys to corresponding indices of a table in the range [0, N-1]. \n",
    "\n",
    "To solve the problem that several different keys got mapped to the same idx, we need a bucket array, in which each bucket may manage a collection of items that are sent to a specific index by the hash function. \n",
    "\n"
   ]
  },
  {
   "cell_type": "code",
   "execution_count": null,
   "metadata": {},
   "outputs": [],
   "source": []
  }
 ],
 "metadata": {
  "kernelspec": {
   "display_name": "Python 3",
   "language": "python",
   "name": "python3"
  },
  "language_info": {
   "codemirror_mode": {
    "name": "ipython",
    "version": 3
   },
   "file_extension": ".py",
   "mimetype": "text/x-python",
   "name": "python",
   "nbconvert_exporter": "python",
   "pygments_lexer": "ipython3",
   "version": "3.5.2"
  }
 },
 "nbformat": 4,
 "nbformat_minor": 2
}
