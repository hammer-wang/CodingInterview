{
 "cells": [
  {
   "cell_type": "markdown",
   "metadata": {},
   "source": [
    "# Trees \n",
    "\n",
    "Table of contents:\n",
    "* General trees\n",
    "* Binary trees\n",
    "* Tree traversal algorithms"
   ]
  },
  {
   "cell_type": "markdown",
   "metadata": {},
   "source": [
    "## General Trees\n",
    "\n",
    "Formally, we define a tree T as a set of nodes storing elements such that the nodes have a parent-child relationship that satisfies the following properties:\n",
    "* If T is nonempty, it has a special node, called the root of T , that has no parent. \n",
    "* Each node v of T different from the root has a unique parent node w; every\n",
    "node with parent w is a child of w.\n",
    "\n",
    "Note that according to our definition, a tree can be empty, meaning that it does not have any nodes. This convention also allows us to define a tree recursively such that a tree T is either empty or consists of a node r, called the root of T, and a (possibly empty) set of subtrees whose roots are the children of r.\n",
    "\n",
    "Two nodes that are children of the same parent are siblings. A node $v$ is external if $v$ has no children. A node $v$ is internal if it has one or more children. External nodes are also known as _leaves_. A node $u$ is an ancestor of a node $v$ if $u = v$ or $u$ is an ancestor of the parent of $v$. Conversely, we say that a node $v$ is a descendant of a node $u$ if $u$ is an ancestor of $v$. An edge of tree T is a pair of nodes $(u,v)$ such that $u$ is the parent of $v$, or vice versa. A path of T is a sequence of nodes such that any two consecutive nodes in the sequence form an edge.\n",
    "\n",
    "In Python, all classes are organized into a single hierarchy, as there exists a built-in class named object as the ultimate base class. It is a direct or indirect base class of all other types in Python (even if not declared as such when defining a new class). \n",
    "\n",
    "__Ordered Trees__\n",
    "\n",
    "A tree is ordered if there is a meaningful linear order among the children of each node; that is, we purposefully identify the children of a node as being the first, second, third, and so on. Such an order is usually visualized by arranging siblings left to right, according to their order.\n",
    "\n",
    "![title](figures/chapter5/ordered_trees.png)\n",
    "\n",
    "__Tree ADT__\n",
    "\n",
    "As we did with positional lists, we define a tree ADT using the concept of a position as an abstraction for a node of a tree. An element is stored at each position, and positions satisfy parent-child relationships that define the tree structure. A position object for a tree supports the method:\n",
    "- p.element()\n",
    "\n",
    "The tree ADT also supports the following accessor methods:\n",
    "- T.root(): return the position of the root of tree T, or None if T is empty\n",
    "- T.is_root(p): return True is the position p is the root of Tree T\n",
    "- T.parent(p): Return the position of the parent of position p, or None is p is the root of T.\n",
    "- T.num_children(p): Return the number of children of position p.\n",
    "- T.children(p): Generate an iteration of the children of position p.\n",
    "- T.is_leaf(p): Return True if position p does not have any children.\n",
    "- len(T): Return the number of positions that are contained in tree T.\n",
    "- T.is_empty(): Return True if tree T does not contain any positions.\n",
    "- T.positions(): Generate an iteration of all positions of T.\n",
    "- iter(T): Genearte an iteration of all _elements_ stored within tree T.\n",
    "\n",
    "Any of the above methods that accepts a position as an argument should generate a ValueError if that position is invalid for T. If a tree T is ordered, then T.children(p) reports the children of p in the natural order. If p is a leaf, then T.children(p) generates an empty iteration. In similar regard, if tree T is empty, then both T.positions() and iter(T) generate empty iter- ations.\n",
    "\n",
    "A formal mechanism to designate the relationships between different implementations of the same abstraction is through the definition of one class that serves as an abstract base class, via inheritance, for one or more concrete classes. Here, we define a tree class."
   ]
  },
  {
   "cell_type": "code",
   "execution_count": 4,
   "metadata": {},
   "outputs": [],
   "source": [
    "# base tree class\n",
    "\n",
    "class Tree:\n",
    "    \n",
    "    class Position:\n",
    "        \n",
    "        def element(self):\n",
    "            raise NotImplementedError('Must be implemented by subclass')\n",
    "            \n",
    "        def __eq__(self, other):\n",
    "            'Return True if other Position represents the same location'\n",
    "            \n",
    "            raise NotImplementedError('Must be implemented by subclass')\n",
    "            \n",
    "        def __ne__(self, other):\n",
    "            '''Return true if other does not represent the same location'''\n",
    "            return not (self == other)\n",
    "        \n",
    "    def root(self):\n",
    "        raise NotImplementedError('Must be implemented by subclass')\n",
    "        \n",
    "    def parent(self, p):\n",
    "        raise NotImplementedError('Must be implemented by subclass')\n",
    "        \n",
    "    def num_children(self, p):\n",
    "        raise NotImplementedError('Must be implemented by subclass')\n",
    "    \n",
    "    def children(self, p):\n",
    "        raise NotImplementedError('Must be implemented by subclass')\n",
    "        \n",
    "    def __len__(self, p):\n",
    "        raise NotImplementedError('Must be implemented by subclass')\n",
    "        \n",
    "    def is_root(self, p):\n",
    "        return self.root() == p\n",
    "    \n",
    "    def is_leaf(self, p):\n",
    "        return self.num_children == 0\n",
    "    \n",
    "    def is_empty(self):\n",
    "        return len(self) == 0"
   ]
  },
  {
   "cell_type": "markdown",
   "metadata": {},
   "source": [
    "#### Computing depth and height.\n",
    "\n",
    "Let p be the position of a node of a treeT. The depth of p is the number of ancestors of p, excluding p itself.\n",
    "\n",
    "The depth of p can also be __recursively__ defined as follows:\n",
    "- If pistheroot,thenthedepthof pis0.\n",
    "- Otherwise, the depth of p is one plus the depth of the parent of p.\n",
    "\n",
    "\n",
    "The height of a position p in a tree T is also defined recursively:\n",
    "- Ifpisaleaf,thentheheightofpis0.\n",
    "- Otherwise, the height of p is one more than the maximum of the heights of\n",
    "p’s children.\n",
    "\n",
    "The height of a nonempty tree T is the height of the root of T.\n",
    "\n",
    "Proposition: The height of a nonempty tree T is equal to the maximum of the depths of its leaf positions."
   ]
  },
  {
   "cell_type": "code",
   "execution_count": null,
   "metadata": {},
   "outputs": [],
   "source": [
    "# depth can be calculated in a recursive way, depth(p) = 1 + depth(parent(p))\n",
    "def depth(self, p):\n",
    "    # O(n)\n",
    "    if self.is_root(p):\n",
    "        return 0\n",
    "    else:\n",
    "        return 1 + self.depth(self.parent(p))\n",
    "\n",
    "# There are two ways of calculating the height\n",
    "def _height1(self):\n",
    "    # worst case O(n^2), using proposition. \n",
    "    return max(self.depth(p) for p in self.positions() if self.is_leaf(p))\n",
    "\n",
    "def _height2(self, p):\n",
    "    # worst case O(n), \n",
    "    if self.is_leaf(p):\n",
    "        return 0\n",
    "    else:\n",
    "        return 1 + max(self._height2(c) for c in self.children(p))"
   ]
  },
  {
   "cell_type": "markdown",
   "metadata": {},
   "source": [
    "Analysis of time complexity of \\_height2: Assume that the iteration over children can be done in $O(c_p)$ time, where $c_p$ is the number of children for position p. Thus, the time complexity is $O(\\sum_p(1+c_p)) = O(n+n-1) = O(n)$."
   ]
  },
  {
   "cell_type": "code",
   "execution_count": 6,
   "metadata": {},
   "outputs": [],
   "source": [
    "# we can implement a height function using _height2\n",
    "\n",
    "def height(self, p=None):\n",
    "    '''\n",
    "    Return the height of the subtree rooted at Position p. If p is None, then return the height of the entire tree.\n",
    "    '''\n",
    "    \n",
    "    if p is None:\n",
    "        p = self.root()\n",
    "        \n",
    "    return self._height2(p)"
   ]
  },
  {
   "cell_type": "markdown",
   "metadata": {},
   "source": [
    "## Binary Trees\n",
    "\n",
    "A binary tree is an ordered tree with the following properties:\n",
    "1. Every node has at most two children\n",
    "2. Each child node is labeled as being either a left child or a right child\n",
    "3. A left child preceeds a right child in the order of a node."
   ]
  },
  {
   "cell_type": "code",
   "execution_count": 2,
   "metadata": {},
   "outputs": [],
   "source": [
    "# to implement the binary tree, we can inherite the Tree base class"
   ]
  },
  {
   "cell_type": "markdown",
   "metadata": {},
   "source": [
    "For a proper binary tree, we have $n_E = 2^n = n_I + 1$"
   ]
  },
  {
   "cell_type": "markdown",
   "metadata": {},
   "source": [
    "### Linked strucure for Binary Trees\n",
    "\n",
    "We leave the implementation for now due to time constraint. \n",
    "\n",
    "![title](figures/chapter5/linked_structure_binary.png)\n",
    "\n",
    "Key idea: each node stores references to its element, parent, left and right children.\n",
    "\n",
    "update methods:\n",
    "- T.add_root(e)\n",
    "- T.add_left(p, e)\n",
    "- T.add_right(p, e)\n",
    "- T.replace(p, e)\n",
    "- T.delete(p) \n",
    "- T.attach(p, T1, T2)\n",
    "\n",
    "Complexity O(1)."
   ]
  },
  {
   "cell_type": "markdown",
   "metadata": {},
   "source": [
    "### Array-based Representaion of a Binary Tree\n",
    "\n",
    "This data stucture is based on level numbering f(p).\n",
    "\n",
    "* if p is root, f(p)=0\n",
    "* if p is the left child of q, then f(p) = 2f(q) + 1\n",
    "* if p is the right child of q, then f(p) = 2f(q) + 2\n",
    "\n",
    "Drawbacks of this representation: \n",
    "1. exponential worst case (imagine that all children are put on the rightmost path)\n",
    "2. update the tree becomes less efficient."
   ]
  },
  {
   "cell_type": "markdown",
   "metadata": {},
   "source": [
    "### Linked-structure for general trees\n",
    "\n",
    "For a general tree, there is no a priori limit on the number of children that a node may have. A natural way to realize a general tree T as a linked structure is to have each node store a single container of references to its children. For example, a children field of a node can be a Python list of references to the children of the node (if any). \n"
   ]
  },
  {
   "cell_type": "markdown",
   "metadata": {},
   "source": [
    "## Tree traversal algorithms\n",
    "\n",
    "A traversal of a tree T is a systematic way of accessing, or “visiting,” all the posi- tions of T . The specific action associated with the “visit” of a position p depends on the application of this traversal, and could involve anything from increment- ing a counter to performing some complex computation for p. In this section, we describe several common traversal schemes for trees, implement them in the con- text of our various tree classes, and discuss several common applications of tree traversals.\n",
    "\n",
    "### Preorder and Postorder Traversals of General Trees\n",
    "\n",
    "In a preorder traversal of a tree T , the root of T is visited first and then the sub- trees rooted at its children are traversed recursively. If the tree is ordered, then the subtrees are traversed according to the order of the children. \n",
    "\n",
    "Another important tree traversal algorithm is the postorder traversal. In some sense, this algorithm can be viewed as the opposite of the preorder traversal, be- cause it recursively traverses the subtrees rooted at the children of the root first, and then visits the root (hence, the name “postorder”). \n",
    "\n",
    "Complexity: O(n)\n",
    "\n",
    "### Breadth-First Tree Traversal\n",
    "\n",
    "Although the preorder and postorder traversals are common ways of visiting the positions of a tree, another common approach is to traverse a tree so that we visit all the positions at depth d before we visit the positions at depth d + 1. Such an algorithm is known as a breadth-first traversal. A breadth-first traversal is a common approach used in software for playing games. A game tree represents the possible choices of moves that might be made by a player (or computer) during a game, with the root of the tree being the initial configuration for the game.\n",
    "\n",
    "Breadth-first traversal can be implemented with a queue. \n",
    "\n",
    "Algorithm breadthfirst(T):  \n",
    "    Initialize queue Q to contain T.root()  \n",
    "    while Q not empty do  \n",
    "        p = Q.dequeue()  \n",
    "        perform visit for p  \n",
    "        for each child c in T.children(p) do  \n",
    "            Q.enqueue(c)  \n",
    "\n",
    "### Inorder Traversal of a Binary Tree (important)\n",
    "\n",
    "Inorder traversal is a specical traversal for Binary trees.\n",
    "\n",
    "Applications: \n",
    "1. the inorder traversal is consisten with the execution order for a arithmetic expression tree \n",
    "2. binary search tree\n",
    "\n",
    "### Binary search tree (important)\n",
    "\n",
    "Idea is to compare search value with node element at each position. It can be thought as binary decision tree."
   ]
  },
  {
   "cell_type": "markdown",
   "metadata": {},
   "source": [
    "## Implementation of tree traversals"
   ]
  },
  {
   "cell_type": "code",
   "execution_count": 14,
   "metadata": {},
   "outputs": [],
   "source": [
    "class TreeNode():\n",
    "    \n",
    "    def __init__(self, val):\n",
    "        self.val = val\n",
    "        self.left = None\n",
    "        self.right = None"
   ]
  },
  {
   "cell_type": "code",
   "execution_count": 17,
   "metadata": {},
   "outputs": [],
   "source": [
    "# We grow a binary search tree \n",
    "vals = list(range(7))\n",
    "\n",
    "def growTree(vals):\n",
    "    \n",
    "    mid = len(vals) // 2\n",
    "    \n",
    "    root = TreeNode(vals[mid])\n",
    "    \n",
    "    \n",
    "    \n",
    "    \n",
    "    \n",
    "    return root\n",
    "\n",
    "def addNode(node, vals, i):\n",
    "    \n",
    "    if node != None:\n",
    "        node.left = TreeNode(vals[i-1])\n",
    "        node.right = TreeNode(vals[i+1])\n",
    "        addNode(node.left)\n",
    "        addNode(node.right)\n",
    "        \n",
    "    \n",
    "        \n",
    "        "
   ]
  },
  {
   "cell_type": "code",
   "execution_count": null,
   "metadata": {},
   "outputs": [],
   "source": [
    "# in-order\n",
    "\n",
    "# pre-order\n",
    "\n",
    "# post-order"
   ]
  }
 ],
 "metadata": {
  "kernelspec": {
   "display_name": "Python 3",
   "language": "python",
   "name": "python3"
  },
  "language_info": {
   "codemirror_mode": {
    "name": "ipython",
    "version": 3
   },
   "file_extension": ".py",
   "mimetype": "text/x-python",
   "name": "python",
   "nbconvert_exporter": "python",
   "pygments_lexer": "ipython3",
   "version": "3.5.2"
  }
 },
 "nbformat": 4,
 "nbformat_minor": 2
}
