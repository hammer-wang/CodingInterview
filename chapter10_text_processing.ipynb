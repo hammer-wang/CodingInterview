{
 "cells": [
  {
   "cell_type": "markdown",
   "metadata": {},
   "source": [
    "# Text Processing\n",
    "\n",
    "Table of contents:\n",
    "- Pattern-matching algorithms\n",
    "- Dynamic programming\n",
    "- Text compression and greedy method\n",
    "- Tries"
   ]
  },
  {
   "cell_type": "markdown",
   "metadata": {},
   "source": [
    "## Dynamic programming\n",
    "\n",
    "Dynamic program- ming can often be used to take problems that seem to require exponential time and produce polynomial-time algorithms to solve them. In addition, the algorithms that result from applications of the dynamic programming technique are usually quite simple—often needing little more than a few lines of code to describe some nested loops for filling in a table.\n",
    "\n",
    "Dynamic programming is very similar to recursion except that we need a memory and we go from smaller problems to bigger problems while recursion goes from bigger to smaller.\n",
    "\n",
    "Linear scan is often a dynamic progrmming solution.\n",
    "\n",
    "To solve dynamic programming problems: we have to identify 1) base case; 2) induction rules.\n",
    "\n",
    "Dynamic problemming is an iterative program."
   ]
  },
  {
   "cell_type": "markdown",
   "metadata": {},
   "source": [
    "## Fibonacci series\n",
    "\n",
    "we first implement a recursive approach. Then we implement both the top-down dynamic programming approach and the bottom-up dynamic programming approach.\n",
    "\n",
    "$f(n) = f(n-1) + f(n-2)$"
   ]
  },
  {
   "cell_type": "code",
   "execution_count": 59,
   "metadata": {},
   "outputs": [],
   "source": [
    "# recursive\n",
    "def fibonacci_recursive(n):\n",
    "    \n",
    "    if n < 2:\n",
    "        return n\n",
    "    \n",
    "    return finonacci_recursive(n-1) + fibonacci_recursive(n-2)"
   ]
  },
  {
   "cell_type": "code",
   "execution_count": 60,
   "metadata": {},
   "outputs": [],
   "source": [
    "# top-down\n",
    "def fibonacci_down(n):\n",
    "    memo = [0] * (n+1)\n",
    "    return helper(n, memo)\n",
    "\n",
    "def helper(n, memo):\n",
    "    \n",
    "    if n < 2:\n",
    "        return n\n",
    "    \n",
    "    if memo[n] == 0:\n",
    "        memo[n] = helper(n-1, memo) + helper(n-2, memo)\n",
    "    \n",
    "    return memo[n]"
   ]
  },
  {
   "cell_type": "code",
   "execution_count": 61,
   "metadata": {},
   "outputs": [],
   "source": [
    "# bottom-up\n",
    "def fibonacci_up(n):\n",
    "    \n",
    "    table = [0, 1]\n",
    "    \n",
    "    if n < 2:\n",
    "        return n\n",
    "    else:\n",
    "        for i in range(1, n):\n",
    "            res = table[1] + table[0]\n",
    "            table[0] = table[1]\n",
    "            table[1] = res\n",
    "            \n",
    "    return table[1]"
   ]
  },
  {
   "cell_type": "code",
   "execution_count": 64,
   "metadata": {},
   "outputs": [
    {
     "name": "stdout",
     "output_type": "stream",
     "text": [
      "100 loops, best of 3: 2.49 ms per loop\n",
      "10000 loops, best of 3: 35.5 µs per loop\n",
      "100000 loops, best of 3: 12.2 µs per loop\n"
     ]
    }
   ],
   "source": [
    "%timeit fibonacci_recursive(20)\n",
    "%timeit fibonacci_down(100)\n",
    "%timeit fibonacci_up(100)"
   ]
  },
  {
   "cell_type": "markdown",
   "metadata": {},
   "source": [
    "### Cracking the coding interview 8.1 Triple Step\n",
    "\n",
    "solved by a bottom up approach."
   ]
  },
  {
   "cell_type": "code",
   "execution_count": 74,
   "metadata": {},
   "outputs": [],
   "source": [
    "def numWays(n):\n",
    "    \n",
    "    table = [1,2,3]\n",
    "    \n",
    "    if n <4:\n",
    "        return n\n",
    "    \n",
    "    for i in range(3, n):\n",
    "        res = table[2] + table[1] + table[0]\n",
    "        table[0] = table[1]\n",
    "        table[1] = table[2]\n",
    "        table[2] = res\n",
    "        \n",
    "    return table[2]"
   ]
  },
  {
   "cell_type": "code",
   "execution_count": 76,
   "metadata": {},
   "outputs": [
    {
     "data": {
      "text/plain": [
       "151403938881836004339308147"
      ]
     },
     "execution_count": 76,
     "metadata": {},
     "output_type": "execute_result"
    }
   ],
   "source": [
    "numWays(100) - fibonacci_up(100)"
   ]
  },
  {
   "cell_type": "markdown",
   "metadata": {},
   "source": [
    "When the possiblility branches 3 times each step, the value increases much faster than Fibonacci series."
   ]
  },
  {
   "cell_type": "code",
   "execution_count": null,
   "metadata": {},
   "outputs": [],
   "source": []
  }
 ],
 "metadata": {
  "kernelspec": {
   "display_name": "Python 3",
   "language": "python",
   "name": "python3"
  },
  "language_info": {
   "codemirror_mode": {
    "name": "ipython",
    "version": 3
   },
   "file_extension": ".py",
   "mimetype": "text/x-python",
   "name": "python",
   "nbconvert_exporter": "python",
   "pygments_lexer": "ipython3",
   "version": "3.5.2"
  }
 },
 "nbformat": 4,
 "nbformat_minor": 2
}
