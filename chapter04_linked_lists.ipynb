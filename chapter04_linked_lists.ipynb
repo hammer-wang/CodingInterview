{
 "cells": [
  {
   "cell_type": "markdown",
   "metadata": {},
   "source": [
    "# Linked Lists\n",
    "\n",
    "Though Python's list class is hihgly optimized, it has some disadvantages:\n",
    "* The length of a dynamic array might be longer than the actual number of elements that it stores.\n",
    "* Amortized bounds for operations may be unacceptable in real-time systems.\n",
    "* Insertions and deletions at interior positions of an array are expensive.\n",
    "\n",
    "In this chapter, we introduce a data structure known as a linked list, which provides an alternative to an array-based sequence (such as a Python list). Both array-based sequences and linked lists keep elements in a certain order, but us- ing a very different style. An array provides the more centralized representation, with one large chunk of memory capable of accommodating references to many elements. A linked list, in contrast, relies on a more distributed representation in which a lightweight object, known as a node, is allocated for each element. Each node maintains a reference to its element and one or more references to neighboring nodes in order to collectively represent the linear order of the sequence.\n",
    "We will demonstrate a trade-off of advantages and disadvantages when con- trasting array-based sequences and linked lists. Elements of a linked list cannot be efficiently accessed by a numeric index k, and we cannot tell just by examining a node if it is the second, fifth, or twentieth node in the list. However, linked lists avoid the three disadvantages noted above for array-based sequences.\n",
    "\n",
    "\n",
    "Table of contents\n",
    "* Singly linked lists\n",
    "* Circularly linked lists\n",
    "* Doubly linked lists\n",
    "* The positional list ADT\n",
    "* Sorting a Positional List"
   ]
  },
  {
   "cell_type": "markdown",
   "metadata": {},
   "source": [
    "## Singly Linked List\n",
    "\n",
    "A singly linked list, in its simplest form, is a collection of nodes that collectively form a linear sequence. Each node stores a reference to an object that is an element of the sequence, as well as a reference to the next node of the list .\n",
    "\n",
    "![title](figures/chapter4/singly_linked_list.png)\n",
    "\n",
    "The first and last node of a linked list are known as the head and tail of the list, respectively. By starting at the head, and moving from one node to another by following each node’s next reference, we can reach the tail of the list. We can identify the tail as the node having None as its next reference. This process is commonly known as traversing the linked list. Because the next reference of a node can be viewed as a link or pointer to another node, the process of traversing a list is also known as link hopping or pointer hopping.\n",
    "\n",
    "Minimally, the linked list instance must keep a reference to the head of the list. Without an explicit reference to the head, there would be no way to locate that node (or indirectly, any others). There is not an absolute need to store a direct reference to the tail of the list, as it could otherwise be located by starting at the head and traversing the rest of the list. However, storing an explicit reference to the tail node is a common convenience to avoid such a traversal. In similar regard, it is common for the linked list instance to keep a count of the total number of nodes that comprise the list (commonly described as the size of the list), to avoid the need to traverse the list to count the nodes.\n",
    "\n",
    "An important property of a linked list is that it does not have a predetermined fixed size; it uses space proportionally to its current number of elements. When using a singly linked list, we can easily insert an element at the head of the list."
   ]
  },
  {
   "cell_type": "code",
   "execution_count": 13,
   "metadata": {},
   "outputs": [],
   "source": [
    "# add an element to the head\n",
    "def add_first(e, L):\n",
    "    '''\n",
    "    e: the element to insert\n",
    "    L: the linked list instance\n",
    "    '''\n",
    "    newest = Node(e)\n",
    "    newest.next = L.head\n",
    "    L.head = newest\n",
    "    L.size += 1\n",
    "\n",
    "# add an element to the tail\n",
    "def add_last(e, L):\n",
    "    newest = Node(e)\n",
    "    newest.next = None\n",
    "    L.tail.next = newest\n",
    "    L.tail = newest\n",
    "    L.size += 1\n",
    "    \n",
    "# remove an element from the head\n",
    "def remove_first(L):\n",
    "    if L.head is None:\n",
    "        raise Exception('The linked list is already empty')\n",
    "    L.head = L.head.next\n",
    "    L.size -= 1"
   ]
  },
  {
   "cell_type": "markdown",
   "metadata": {},
   "source": [
    "Unfortunately, we cannot easily delete the last node of a singly linked list. Even if we maintain a tail reference directly to the last node of the list, we must be able to access the node before the last node in order to remove the last node. But we cannot reach the node before the tail by following next links from the tail. The only way to access this node is to start from the head of the list and search all the way through the list. But such a sequence of link-hopping operations could take a long time. If we want to support such an operation efficiently, we will need to make our list doubly linked."
   ]
  },
  {
   "cell_type": "markdown",
   "metadata": {},
   "source": [
    "### Implementing a Stack and a Queue with a Singly Linked List\n",
    "\n",
    "#### Stack\n",
    "In this section, we demonstrate use of a singly linked list by providing a complete Python implementation of the stack ADT (see Section 6.1). In designing such an implementation, we need to decide whether to model the top of the stack at the head or at the tail of the list. There is clearly a best choice here; we can efficiently insert and delete elements in constant time only at the head. Since all stack operations affect the top, we orient the top of the stack at the head of our list. When creating the nodes, we use __slot__ to create streamlined representaion for more efficient memory usage.\n"
   ]
  },
  {
   "cell_type": "code",
   "execution_count": 16,
   "metadata": {},
   "outputs": [],
   "source": [
    "class LinkedStack():\n",
    "    \n",
    "    class _Node():\n",
    "        __slot__ = '_element', '_next'\n",
    "        \n",
    "        def __init__(self, element, next):\n",
    "            self._element = element\n",
    "            self._next = next\n",
    "            \n",
    "    def __init__(self):\n",
    "        self._head = None\n",
    "        self._size = 0\n",
    "        \n",
    "    def __len__(self):\n",
    "        return self._size\n",
    "    \n",
    "    def is_empt(self):\n",
    "        return self._size == 0\n",
    "    \n",
    "    def push(self, e):\n",
    "        self._head = self._Node(e, self._head)\n",
    "        self._size += 1\n",
    "        \n",
    "    def top(self):\n",
    "        if self.is_empty():\n",
    "            raise Exception('Stack is empty')\n",
    "            \n",
    "        return self._head._element\n",
    "    \n",
    "    def pop(self):\n",
    "        if self.is_empty():\n",
    "            raise Exception('Stack is empty')\n",
    "            \n",
    "        answer = self._head._element\n",
    "        self._head = self._head._next\n",
    "        self._size -= 1\n",
    "        return answer\n",
    "\n",
    "# all allowed operations of a linkedstack have O(1) complexity"
   ]
  },
  {
   "cell_type": "markdown",
   "metadata": {},
   "source": [
    "#### Implementing a Queue with a Singly-linked list"
   ]
  },
  {
   "cell_type": "code",
   "execution_count": 18,
   "metadata": {},
   "outputs": [],
   "source": [
    "class LinkedQueue():\n",
    "    \n",
    "    class _Node():\n",
    "        __slot__ = '_element', '_next'\n",
    "        \n",
    "        def __init__(self, element, next):\n",
    "            self._element = element\n",
    "            self._next = next\n",
    "            \n",
    "    def __init__(self):\n",
    "        self._head = None\n",
    "        self._tail = None\n",
    "        self._size = 0\n",
    "        \n",
    "    def __len__(self):\n",
    "        return self._size \n",
    "    \n",
    "    def is_empty(self):\n",
    "        return self._size == 0\n",
    "    \n",
    "    def first(self):\n",
    "        if self.is_empty():\n",
    "            raise Empty('Queue is empty')\n",
    "            \n",
    "        return self._head._element\n",
    "    \n",
    "    def dequeue(self):\n",
    "        if self.is_empty():\n",
    "            raise Empty('Queue is empty')\n",
    "            \n",
    "        answer = self._head._element\n",
    "        self._head = self._head._next\n",
    "        self._size -= 1\n",
    "        if self.is_empty():\n",
    "            self._tail = None\n",
    "        return answer\n",
    "    \n",
    "    def enqueue(self):\n",
    "        newest = self._Node(e, None)\n",
    "        if self.is_empty():\n",
    "            self._head = newest\n",
    "        else:\n",
    "            self._tail._next = newest\n",
    "        self._tail = newest\n",
    "        self._size += 1"
   ]
  },
  {
   "cell_type": "markdown",
   "metadata": {},
   "source": [
    "## Circularly Linked-list"
   ]
  },
  {
   "cell_type": "markdown",
   "metadata": {},
   "source": [
    "## Doubly-linked list"
   ]
  },
  {
   "cell_type": "markdown",
   "metadata": {},
   "source": [
    "## Positional List ADT\n",
    "\n",
    "The abstract data types that we have considered thus far, namely stacks, queues, and double-ended queues, only allow update operations that occur at one end of a sequence or the other. We wish to have a more general abstraction. For example, although we motivated the FIFO semantics of a queue as a model for customers who are waiting to speak with a customer service representative, or fans who are waiting in line to buy tickets to a show, the queue ADT is too limiting. What if a waiting customer decides to hang up before reaching the front of the customer service queue? Or what if someone who is waiting in line to buy tickets allows a friend to “cut” into line at that position? We would like to design an abstract data type that provides a user a way to refer to elements anywhere in a sequence, and to perform arbitrary insertions and deletions.\n",
    "\n",
    "When working with array-based sequences (such as a Python list), integer in- dices provide an excellent means for describing the location of an element, or the location at which an insertion or deletion should take place. However, numeric in- dices are not a good choice for describing positions within a linked list because we cannot efficiently access an entry knowing only its index; finding an element at a given index within a linked list requires traversing the list incrementally from its beginning or end, counting elements as we go.\n",
    "\n",
    "As another example, a text document can be viewed as a long sequence of characters. A word processor uses the abstraction of a cursor to describe a position within the document without explicit use of an integer index, allowing operations such as “delete the character at the cursor” or “insert a new character just after the cursor.” Furthermore, we may be able to refer to an inherent position within a doc- ument, such as the beginning of a particular section, without relying on a character index (or even a section number) that may change as the document evolves.\n",
    "\n",
    "\n",
    "One of the great benefits of a linked list structure is that it is possible to perform O(1)-time insertions and deletions at arbitrary positions of the list, as long as we are given a reference to a relevant node of the list. It is therefore very tempting to develop an ADT in which a node reference serves as the mechanism for describing a position. However, this has several problems, as described in the book section 7.4. Thus, we need to introduce an independent position abstraction to denote the location of an element within a list, and then a complete positional list ADT that can encapsulate a doubly linked list. \n",
    "\n",
    "A position acts as a marker or token within the broader positional list. A position p is unaf- fected by changes elsewhere in a list; the only way in which a position becomes invalid is if an explicit command is issued to delete it. A position instance is a simple object, supporting only the following method:\n",
    " - p.element(): Return the element stored at position p.\n",
    " \n",
    "Accessor methods of a positional ADT:\n",
    "- L.first(): return the position of the first element.\n",
    "- L.last(): return the position of the last element.\n",
    "- L.before(p)\n",
    "- L.after(p): return the position of L immediately after position p, or None if p is the last position.\n",
    "- L.is_empty()\n",
    "- len(L)\n",
    "- iter(L): return a forward iterator for the elements of the list.\n",
    "\n",
    "Update method:\n",
    "- L.add_first(e)\n",
    "- L.add_last(e)\n",
    "- L.add_before(p, e): add element e before position p, returning the position of the new element.\n",
    "- L.add_after(p, e): insert element e after position p\n",
    "- L.replace(p, e): replace the element at position p with element e\n",
    "- L.delete(p): remove and the return the element at position p in L, invalidating the position. \n",
    "\n",
    "For those methods that accept a position p as a parameter, an error occurs if p is not a valid position for list L.\n"
   ]
  },
  {
   "cell_type": "markdown",
   "metadata": {},
   "source": [
    "In this section, we present a complete implementation of a Positional List class using a doubly linked list that satisfies the following important proposition.\n",
    "\n",
    "- Proposition: Each method of the positional list ADT runs in worst-case O(1) time when implemented with a doubly linked list.\n",
    "\n",
    "The implementation of a positional list is based on doubly-linked list. We'll come back to this point later."
   ]
  }
 ],
 "metadata": {
  "kernelspec": {
   "display_name": "Python 3",
   "language": "python",
   "name": "python3"
  },
  "language_info": {
   "codemirror_mode": {
    "name": "ipython",
    "version": 3
   },
   "file_extension": ".py",
   "mimetype": "text/x-python",
   "name": "python",
   "nbconvert_exporter": "python",
   "pygments_lexer": "ipython3",
   "version": "3.5.2"
  }
 },
 "nbformat": 4,
 "nbformat_minor": 2
}
